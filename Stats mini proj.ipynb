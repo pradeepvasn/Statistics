{
 "cells": [
  {
   "cell_type": "markdown",
   "metadata": {},
   "source": [
    "# Q1:  La Liga"
   ]
  },
  {
   "cell_type": "code",
   "execution_count": 1,
   "metadata": {},
   "outputs": [],
   "source": [
    "import numpy as np\n",
    "import pandas as pd\n",
    "import matplotlib.pyplot as plt\n",
    "import seaborn as sns\n",
    "import scipy.stats as stats"
   ]
  },
  {
   "cell_type": "code",
   "execution_count": 8,
   "metadata": {},
   "outputs": [],
   "source": [
    "la=pd.read_csv('laliga.csv')"
   ]
  },
  {
   "cell_type": "code",
   "execution_count": 74,
   "metadata": {},
   "outputs": [
    {
     "data": {
      "text/html": [
       "<div>\n",
       "<style scoped>\n",
       "    .dataframe tbody tr th:only-of-type {\n",
       "        vertical-align: middle;\n",
       "    }\n",
       "\n",
       "    .dataframe tbody tr th {\n",
       "        vertical-align: top;\n",
       "    }\n",
       "\n",
       "    .dataframe thead th {\n",
       "        text-align: right;\n",
       "    }\n",
       "</style>\n",
       "<table border=\"1\" class=\"dataframe\">\n",
       "  <thead>\n",
       "    <tr style=\"text-align: right;\">\n",
       "      <th></th>\n",
       "      <th>Pos</th>\n",
       "      <th>Team</th>\n",
       "      <th>Seasons</th>\n",
       "      <th>Points</th>\n",
       "      <th>GamesPlayed</th>\n",
       "      <th>GamesWon</th>\n",
       "      <th>GamesDrawn</th>\n",
       "      <th>GamesLost</th>\n",
       "      <th>GoalsFor</th>\n",
       "      <th>GoalsAgainst</th>\n",
       "      <th>...</th>\n",
       "      <th>Fourth</th>\n",
       "      <th>Fifth</th>\n",
       "      <th>Sixth</th>\n",
       "      <th>T</th>\n",
       "      <th>Debut</th>\n",
       "      <th>Since/LastApp</th>\n",
       "      <th>BestPosition</th>\n",
       "      <th>year</th>\n",
       "      <th>avg_points</th>\n",
       "      <th>Win_percent</th>\n",
       "    </tr>\n",
       "  </thead>\n",
       "  <tbody>\n",
       "    <tr>\n",
       "      <th>0</th>\n",
       "      <td>1</td>\n",
       "      <td>Real Madrid</td>\n",
       "      <td>86</td>\n",
       "      <td>4385</td>\n",
       "      <td>2762</td>\n",
       "      <td>1647</td>\n",
       "      <td>552</td>\n",
       "      <td>563</td>\n",
       "      <td>5947</td>\n",
       "      <td>3140</td>\n",
       "      <td>...</td>\n",
       "      <td>8</td>\n",
       "      <td>3</td>\n",
       "      <td>4</td>\n",
       "      <td>79</td>\n",
       "      <td>1929-30</td>\n",
       "      <td>1929-30</td>\n",
       "      <td>1</td>\n",
       "      <td>1929</td>\n",
       "      <td>1.587618</td>\n",
       "      <td>59.630702</td>\n",
       "    </tr>\n",
       "    <tr>\n",
       "      <th>1</th>\n",
       "      <td>2</td>\n",
       "      <td>Barcelona</td>\n",
       "      <td>86</td>\n",
       "      <td>4262</td>\n",
       "      <td>2762</td>\n",
       "      <td>1581</td>\n",
       "      <td>573</td>\n",
       "      <td>608</td>\n",
       "      <td>5900</td>\n",
       "      <td>3114</td>\n",
       "      <td>...</td>\n",
       "      <td>12</td>\n",
       "      <td>4</td>\n",
       "      <td>6</td>\n",
       "      <td>83</td>\n",
       "      <td>1929-30</td>\n",
       "      <td>1929-30</td>\n",
       "      <td>1</td>\n",
       "      <td>1929</td>\n",
       "      <td>1.543085</td>\n",
       "      <td>57.241130</td>\n",
       "    </tr>\n",
       "    <tr>\n",
       "      <th>2</th>\n",
       "      <td>3</td>\n",
       "      <td>Atletico Madrid</td>\n",
       "      <td>80</td>\n",
       "      <td>3442</td>\n",
       "      <td>2614</td>\n",
       "      <td>1241</td>\n",
       "      <td>598</td>\n",
       "      <td>775</td>\n",
       "      <td>4534</td>\n",
       "      <td>3309</td>\n",
       "      <td>...</td>\n",
       "      <td>9</td>\n",
       "      <td>7</td>\n",
       "      <td>6</td>\n",
       "      <td>56</td>\n",
       "      <td>1929-30</td>\n",
       "      <td>2002-03</td>\n",
       "      <td>1</td>\n",
       "      <td>1929</td>\n",
       "      <td>1.316756</td>\n",
       "      <td>47.475134</td>\n",
       "    </tr>\n",
       "    <tr>\n",
       "      <th>3</th>\n",
       "      <td>4</td>\n",
       "      <td>Valencia</td>\n",
       "      <td>82</td>\n",
       "      <td>3386</td>\n",
       "      <td>2664</td>\n",
       "      <td>1187</td>\n",
       "      <td>616</td>\n",
       "      <td>861</td>\n",
       "      <td>4398</td>\n",
       "      <td>3469</td>\n",
       "      <td>...</td>\n",
       "      <td>11</td>\n",
       "      <td>10</td>\n",
       "      <td>7</td>\n",
       "      <td>50</td>\n",
       "      <td>1931-32</td>\n",
       "      <td>1987-88</td>\n",
       "      <td>1</td>\n",
       "      <td>1931</td>\n",
       "      <td>1.271021</td>\n",
       "      <td>44.557057</td>\n",
       "    </tr>\n",
       "    <tr>\n",
       "      <th>4</th>\n",
       "      <td>5</td>\n",
       "      <td>Athletic Bilbao</td>\n",
       "      <td>86</td>\n",
       "      <td>3368</td>\n",
       "      <td>2762</td>\n",
       "      <td>1209</td>\n",
       "      <td>633</td>\n",
       "      <td>920</td>\n",
       "      <td>4631</td>\n",
       "      <td>3700</td>\n",
       "      <td>...</td>\n",
       "      <td>5</td>\n",
       "      <td>8</td>\n",
       "      <td>10</td>\n",
       "      <td>49</td>\n",
       "      <td>1929-30</td>\n",
       "      <td>1929-30</td>\n",
       "      <td>1</td>\n",
       "      <td>1929</td>\n",
       "      <td>1.219406</td>\n",
       "      <td>43.772629</td>\n",
       "    </tr>\n",
       "  </tbody>\n",
       "</table>\n",
       "<p>5 rows × 23 columns</p>\n",
       "</div>"
      ],
      "text/plain": [
       "   Pos             Team  Seasons  Points  GamesPlayed  GamesWon  GamesDrawn  \\\n",
       "0    1      Real Madrid       86    4385         2762      1647         552   \n",
       "1    2        Barcelona       86    4262         2762      1581         573   \n",
       "2    3  Atletico Madrid       80    3442         2614      1241         598   \n",
       "3    4         Valencia       82    3386         2664      1187         616   \n",
       "4    5  Athletic Bilbao       86    3368         2762      1209         633   \n",
       "\n",
       "   GamesLost  GoalsFor  GoalsAgainst  ...  Fourth  Fifth  Sixth   T    Debut  \\\n",
       "0        563      5947          3140  ...       8      3      4  79  1929-30   \n",
       "1        608      5900          3114  ...      12      4      6  83  1929-30   \n",
       "2        775      4534          3309  ...       9      7      6  56  1929-30   \n",
       "3        861      4398          3469  ...      11     10      7  50  1931-32   \n",
       "4        920      4631          3700  ...       5      8     10  49  1929-30   \n",
       "\n",
       "   Since/LastApp  BestPosition  year avg_points  Win_percent  \n",
       "0        1929-30             1  1929   1.587618    59.630702  \n",
       "1        1929-30             1  1929   1.543085    57.241130  \n",
       "2        2002-03             1  1929   1.316756    47.475134  \n",
       "3        1987-88             1  1931   1.271021    44.557057  \n",
       "4        1929-30             1  1929   1.219406    43.772629  \n",
       "\n",
       "[5 rows x 23 columns]"
      ]
     },
     "execution_count": 74,
     "metadata": {},
     "output_type": "execute_result"
    }
   ],
   "source": [
    "la.head()"
   ]
  },
  {
   "cell_type": "code",
   "execution_count": 44,
   "metadata": {},
   "outputs": [],
   "source": [
    "j_y=[ int(la['Debut'].str.split('-')[i][0])  for i in range(len(la['Debut']))]\n",
    "\n",
    "la['year']=j_y"
   ]
  },
  {
   "cell_type": "code",
   "execution_count": 34,
   "metadata": {},
   "outputs": [],
   "source": [
    "la['avg_points']=la['Points']/la['GamesPlayed']"
   ]
  },
  {
   "cell_type": "code",
   "execution_count": 73,
   "metadata": {},
   "outputs": [],
   "source": [
    "la['Win_percent']=(la['GamesWon']/la['GamesPlayed'])*100"
   ]
  },
  {
   "cell_type": "markdown",
   "metadata": {},
   "source": [
    "### 1. Which are the teams which started playing between 1930-1980?"
   ]
  },
  {
   "cell_type": "code",
   "execution_count": 103,
   "metadata": {},
   "outputs": [
    {
     "name": "stdout",
     "output_type": "stream",
     "text": [
      "The teams that started between 1930 and 1980 are:\n",
      "\n",
      " ['Valencia' 'Sevilla' 'Zaragoza' 'Real Betis' 'Deportivo La Coruna'\n",
      " 'Celta Vigo' 'Valladolid' 'Sporting Gijon' 'Osasuna' 'Malaga' 'Oviedo'\n",
      " 'Mallorca' 'Las Palmas' 'Granada' 'Rayo Vallecano' 'Elche' 'Hercules'\n",
      " 'Tenerife' 'Murcia' 'Alaves' 'Levante' 'Salamanca' 'Sabadell' 'Cadiz'\n",
      " 'Castellon' 'Cordoba' 'Recreativo' 'Burgos CF' 'Pontevedra' 'Gimnastic'\n",
      " 'Alcoyano' 'Jaen' 'AD Almeria' 'Lleida' 'Condal' 'Atletico Tetuan'\n",
      " 'Cultural Leonesa']\n"
     ]
    }
   ],
   "source": [
    "teams_80=np.array(la[(la['year']>=1930) & (la['year']<=1980)]['Team'])\n",
    "print('The teams that started between 1930 and 1980 are:\\n\\n',teams_80)"
   ]
  },
  {
   "cell_type": "markdown",
   "metadata": {},
   "source": [
    "### 2. Which are the top 5 teams in terms of points?"
   ]
  },
  {
   "cell_type": "code",
   "execution_count": 71,
   "metadata": {},
   "outputs": [],
   "source": [
    "top_5=la.sort_values(by='avg_points',ascending=False).head(5)[['Team','avg_points']]\n",
    "top_5.set_index('Team',inplace=True)                                                       "
   ]
  },
  {
   "cell_type": "code",
   "execution_count": 72,
   "metadata": {},
   "outputs": [
    {
     "name": "stdout",
     "output_type": "stream",
     "text": [
      "The top 5 teams in terms of avg points per game are:\n",
      "                  avg_points\n",
      "Team                       \n",
      "Real Madrid        1.587618\n",
      "Barcelona          1.543085\n",
      "Villarreal         1.501548\n",
      "Atletico Madrid    1.316756\n",
      "Valencia           1.271021\n"
     ]
    }
   ],
   "source": [
    "print('The top 5 teams in terms of avg points per game are:\\n',top_5)"
   ]
  },
  {
   "cell_type": "markdown",
   "metadata": {},
   "source": [
    "### 3. What is the distribution of the winning percentage for all teams? Which teams are in the top 5 in terms of winning percentage? (Winning percentage= (GamesWon / GamesPlayed)*100)"
   ]
  },
  {
   "cell_type": "code",
   "execution_count": 87,
   "metadata": {},
   "outputs": [
    {
     "data": {
      "image/png": "[encoded data removed]",
      "text/plain": [
       "<Figure size 432x288 with 1 Axes>"
      ]
     },
     "metadata": {
      "needs_background": "light"
     },
     "output_type": "display_data"
    }
   ],
   "source": [
    "sns.histplot(x='Win_percent',data=la,kde=True)\n",
    "plt.axvline(la['Win_percent'].mean(),color='red',label='Mean')\n",
    "plt.legend()\n",
    "plt.show()"
   ]
  },
  {
   "cell_type": "code",
   "execution_count": 91,
   "metadata": {},
   "outputs": [
    {
     "name": "stdout",
     "output_type": "stream",
     "text": [
      "Shapiro test:  (nan, 1.0)\n",
      "Mean value for win %:  31.364789990145002\n",
      "Median value for win %:  30.49172226340499\n"
     ]
    }
   ],
   "source": [
    "print('Shapiro test: ',stats.shapiro(la['Win_percent']))\n",
    "print('Mean value for win %: ',la['Win_percent'].mean())\n",
    "print('Median value for win %: ',la['Win_percent'].median())"
   ]
  },
  {
   "cell_type": "markdown",
   "metadata": {},
   "source": [
    "Conclusion\n",
    "\n",
    "1. From the shapiro test result it is clearly visible that the data is normally distributed\n",
    "2. By comparing the mean and median values we can see they are very close to each other.\n",
    "\n",
    "Hence the data is normally distributed"
   ]
  },
  {
   "cell_type": "code",
   "execution_count": 137,
   "metadata": {},
   "outputs": [
    {
     "name": "stdout",
     "output_type": "stream",
     "text": [
      "Top 5 teams with highest win % are: \n",
      "                  Win_percent\n",
      "Team                        \n",
      "Real Madrid        59.630702\n",
      "Barcelona          57.241130\n",
      "Atletico Madrid    47.475134\n",
      "Valencia           44.557057\n",
      "Athletic Bilbao    43.772629\n"
     ]
    }
   ],
   "source": [
    "top_5_win=la.sort_values(by='Win_percent',ascending=False)[['Team','Win_percent']].head()\n",
    "top_5_win.set_index('Team',inplace=True)\n",
    "print('Top 5 teams with highest win % are: \\n',top_5_win)\n"
   ]
  },
  {
   "cell_type": "markdown",
   "metadata": {},
   "source": [
    "### 4.\tIs there a significant difference in the winning percentage for teams which have attained a best position between 1-3 and those teams which have had a best position between 4-7."
   ]
  },
  {
   "cell_type": "code",
   "execution_count": 132,
   "metadata": {},
   "outputs": [],
   "source": [
    "k=[]\n",
    "for i in la['BestPosition']:\n",
    "    if i in range(1,4):\n",
    "        k.append('1 to 3')\n",
    "    elif i in range(4,8):\n",
    "        k.append('4 to 7')\n",
    "    else:\n",
    "        k.append(np.NaN)\n",
    "\n",
    "la['group']=k"
   ]
  },
  {
   "cell_type": "code",
   "execution_count": 133,
   "metadata": {},
   "outputs": [],
   "source": [
    "com=la.groupby('group')[['GamesPlayed','GamesWon']].agg('sum')"
   ]
  },
  {
   "cell_type": "code",
   "execution_count": 134,
   "metadata": {},
   "outputs": [],
   "source": [
    "com['WIn_%']=(com['GamesWon']/com['GamesPlayed'])*100"
   ]
  },
  {
   "cell_type": "code",
   "execution_count": 135,
   "metadata": {},
   "outputs": [
    {
     "data": {
      "text/html": [
       "<div>\n",
       "<style scoped>\n",
       "    .dataframe tbody tr th:only-of-type {\n",
       "        vertical-align: middle;\n",
       "    }\n",
       "\n",
       "    .dataframe tbody tr th {\n",
       "        vertical-align: top;\n",
       "    }\n",
       "\n",
       "    .dataframe thead th {\n",
       "        text-align: right;\n",
       "    }\n",
       "</style>\n",
       "<table border=\"1\" class=\"dataframe\">\n",
       "  <thead>\n",
       "    <tr style=\"text-align: right;\">\n",
       "      <th></th>\n",
       "      <th>GamesPlayed</th>\n",
       "      <th>GamesWon</th>\n",
       "      <th>WIn_%</th>\n",
       "    </tr>\n",
       "    <tr>\n",
       "      <th>group</th>\n",
       "      <th></th>\n",
       "      <th></th>\n",
       "      <th></th>\n",
       "    </tr>\n",
       "  </thead>\n",
       "  <tbody>\n",
       "    <tr>\n",
       "      <th>1 to 3</th>\n",
       "      <td>33082</td>\n",
       "      <td>13875</td>\n",
       "      <td>41.941237</td>\n",
       "    </tr>\n",
       "    <tr>\n",
       "      <th>4 to 7</th>\n",
       "      <td>11966</td>\n",
       "      <td>3727</td>\n",
       "      <td>31.146582</td>\n",
       "    </tr>\n",
       "  </tbody>\n",
       "</table>\n",
       "</div>"
      ],
      "text/plain": [
       "        GamesPlayed  GamesWon      WIn_%\n",
       "group                                   \n",
       "1 to 3        33082     13875  41.941237\n",
       "4 to 7        11966      3727  31.146582"
      ]
     },
     "execution_count": 135,
     "metadata": {},
     "output_type": "execute_result"
    }
   ],
   "source": [
    "com"
   ]
  },
  {
   "cell_type": "markdown",
   "metadata": {},
   "source": [
    "Conclusion:\n",
    "\n",
    "From the above table we can see that the win percentage for teams who have got best position between 1 and 3 has 10% more win % than teams who have best position between 4 and 7"
   ]
  },
  {
   "cell_type": "markdown",
   "metadata": {},
   "source": [
    "# Q2: Blood Pressure"
   ]
  },
  {
   "cell_type": "code",
   "execution_count": 7,
   "metadata": {},
   "outputs": [],
   "source": [
    "n=200\n",
    "xbar=140 # mm Hg\n",
    "s=25 # mm Hg"
   ]
  },
  {
   "cell_type": "code",
   "execution_count": 8,
   "metadata": {},
   "outputs": [],
   "source": [
    "se= s/np.sqrt(n)"
   ]
  },
  {
   "cell_type": "markdown",
   "metadata": {},
   "source": [
    "### a)\tCalculate the estimated standard error of the sample mean? What does the standard error indicate?"
   ]
  },
  {
   "cell_type": "code",
   "execution_count": 9,
   "metadata": {},
   "outputs": [
    {
     "name": "stdout",
     "output_type": "stream",
     "text": [
      "Standard Error =  1.7677669529663687\n"
     ]
    }
   ],
   "source": [
    "print('Standard Error = ',se)"
   ]
  },
  {
   "cell_type": "markdown",
   "metadata": {},
   "source": [
    "The standard error for a sample signifies how much the estimated mean from the sample can actually deviate from the population mean."
   ]
  },
  {
   "cell_type": "markdown",
   "metadata": {},
   "source": [
    "### b)\tEstimate a 95% confidence interval for the true mean blood pressure for all 60-year old women with glaucoma."
   ]
  },
  {
   "cell_type": "code",
   "execution_count": 10,
   "metadata": {},
   "outputs": [
    {
     "data": {
      "text/plain": [
       "1.96"
      ]
     },
     "execution_count": 10,
     "metadata": {},
     "output_type": "execute_result"
    }
   ],
   "source": [
    "np.abs(round(stats.norm.isf(q=0.025),2))"
   ]
  },
  {
   "cell_type": "code",
   "execution_count": 12,
   "metadata": {},
   "outputs": [
    {
     "name": "stdout",
     "output_type": "stream",
     "text": [
      "The 95% confidence interval for true mean blood pressure for all 60 year old women is: \n",
      " [ 136.5351767721859 , 143.4648232278141 ]\n"
     ]
    }
   ],
   "source": [
    "print('The 95% confidence interval for true mean blood pressure for all 60 year old women is: \\n','[',xbar-(1.96*se),',',xbar+(1.96*se),']')"
   ]
  },
  {
   "cell_type": "markdown",
   "metadata": {},
   "source": [
    "### c) Assume that instead of 200, a random sample of only 100 60-year old women with glaucoma was chosen. The sample mean and standard deviation estimates are the same as those in the original study. What is the estimated 95% confidence interval for the true mean blood pressure?"
   ]
  },
  {
   "cell_type": "code",
   "execution_count": 13,
   "metadata": {},
   "outputs": [],
   "source": [
    "se2= s/np.sqrt(100)"
   ]
  },
  {
   "cell_type": "code",
   "execution_count": 14,
   "metadata": {},
   "outputs": [
    {
     "name": "stdout",
     "output_type": "stream",
     "text": [
      "The 95% confidence interval for true mean blood pressure for all 60 year old women is with n=100: \n",
      " [ 135.1 , 144.9 ]\n"
     ]
    }
   ],
   "source": [
    "print('The 95% confidence interval for true mean blood pressure for all 60 year old women is with n=100: \\n','[',xbar-(1.96*se2),',',xbar+(1.96*se2),']')"
   ]
  },
  {
   "cell_type": "markdown",
   "metadata": {},
   "source": [
    "### d)\tWhich of the two above intervals are wider?"
   ]
  },
  {
   "cell_type": "code",
   "execution_count": 15,
   "metadata": {},
   "outputs": [
    {
     "name": "stdout",
     "output_type": "stream",
     "text": [
      "Width of 1st interval =  6.929646455628188\n",
      "Width of 2nd interval =  9.800000000000011\n"
     ]
    }
   ],
   "source": [
    "range1=(xbar+(1.96*se))-(xbar-(1.96*se))\n",
    "range2=(xbar+(1.96*se2))-(xbar-(1.96*se2))\n",
    "print('Width of 1st interval = ',range1)\n",
    "print('Width of 2nd interval = ',range2)"
   ]
  },
  {
   "cell_type": "markdown",
   "metadata": {},
   "source": [
    "Conclusion:\n",
    "   \n",
    "We can see that the interval with 100 sample is wider"
   ]
  },
  {
   "cell_type": "markdown",
   "metadata": {},
   "source": [
    "### e)\tExplain in non-technical terms why the estimated standard error of a sample mean tends to decrease with an increase in sample size."
   ]
  },
  {
   "cell_type": "markdown",
   "metadata": {},
   "source": [
    "1. When sample size increases we are considering wider range of data which represents the population better. \n",
    "2. When we calculate the sample statistics as we have considered larger sample, so the value we calculate comes closer to the population parameter. This in turn gives higher confidence in predicting the population parameter.\n",
    "\n",
    "The larger the sample size the more information we have and so our uncertainty reduces.The larger the sample size the more information we have and so our uncertainty reduces.\n"
   ]
  },
  {
   "cell_type": "markdown",
   "metadata": {},
   "source": [
    "# Q3: Golf"
   ]
  },
  {
   "cell_type": "code",
   "execution_count": 2,
   "metadata": {},
   "outputs": [],
   "source": [
    "go=pd.read_csv(\"Golf.csv\")"
   ]
  },
  {
   "cell_type": "code",
   "execution_count": 152,
   "metadata": {},
   "outputs": [
    {
     "data": {
      "text/html": [
       "<div>\n",
       "<style scoped>\n",
       "    .dataframe tbody tr th:only-of-type {\n",
       "        vertical-align: middle;\n",
       "    }\n",
       "\n",
       "    .dataframe tbody tr th {\n",
       "        vertical-align: top;\n",
       "    }\n",
       "\n",
       "    .dataframe thead th {\n",
       "        text-align: right;\n",
       "    }\n",
       "</style>\n",
       "<table border=\"1\" class=\"dataframe\">\n",
       "  <thead>\n",
       "    <tr style=\"text-align: right;\">\n",
       "      <th></th>\n",
       "      <th>Current</th>\n",
       "      <th>New</th>\n",
       "    </tr>\n",
       "  </thead>\n",
       "  <tbody>\n",
       "    <tr>\n",
       "      <th>0</th>\n",
       "      <td>264</td>\n",
       "      <td>277</td>\n",
       "    </tr>\n",
       "    <tr>\n",
       "      <th>1</th>\n",
       "      <td>261</td>\n",
       "      <td>269</td>\n",
       "    </tr>\n",
       "    <tr>\n",
       "      <th>2</th>\n",
       "      <td>267</td>\n",
       "      <td>263</td>\n",
       "    </tr>\n",
       "    <tr>\n",
       "      <th>3</th>\n",
       "      <td>272</td>\n",
       "      <td>266</td>\n",
       "    </tr>\n",
       "    <tr>\n",
       "      <th>4</th>\n",
       "      <td>258</td>\n",
       "      <td>262</td>\n",
       "    </tr>\n",
       "  </tbody>\n",
       "</table>\n",
       "</div>"
      ],
      "text/plain": [
       "   Current  New\n",
       "0      264  277\n",
       "1      261  269\n",
       "2      267  263\n",
       "3      272  266\n",
       "4      258  262"
      ]
     },
     "execution_count": 152,
     "metadata": {},
     "output_type": "execute_result"
    }
   ],
   "source": [
    "go.head()"
   ]
  },
  {
   "cell_type": "code",
   "execution_count": 3,
   "metadata": {},
   "outputs": [],
   "source": [
    "cur=np.array(go['Current'])\n",
    "ne=np.array(go['New'])"
   ]
  },
  {
   "cell_type": "code",
   "execution_count": 158,
   "metadata": {},
   "outputs": [
    {
     "data": {
      "text/plain": [
       "array([264, 261, 267, 272, 258, 283, 258, 266, 259, 270, 263, 264, 284,\n",
       "       263, 260, 283, 255, 272, 266, 268, 270, 287, 289, 280, 272, 275,\n",
       "       265, 260, 278, 275, 281, 274, 273, 263, 275, 267, 279, 274, 276,\n",
       "       262], dtype=int64)"
      ]
     },
     "execution_count": 158,
     "metadata": {},
     "output_type": "execute_result"
    }
   ],
   "source": [
    "cur"
   ]
  },
  {
   "cell_type": "markdown",
   "metadata": {},
   "source": [
    "### 1.\tFormulate and present the rationale for a hypothesis test that Par could use to compare the driving distances of the current and new golf balls."
   ]
  },
  {
   "cell_type": "markdown",
   "metadata": {},
   "source": [
    "H0: The distance travelled by new ball = The distance covered by current ball\n",
    "\n",
    "HA: The distace is not same for new and current balls"
   ]
  },
  {
   "cell_type": "markdown",
   "metadata": {},
   "source": [
    "### 2.\tAnalyze the data to provide the hypothesis testing conclusion. What is the p-value for your test? What is your recommendation for Par Inc.?"
   ]
  },
  {
   "cell_type": "code",
   "execution_count": 159,
   "metadata": {},
   "outputs": [
    {
     "data": {
      "text/plain": [
       "(0.9707046747207642, 0.378787100315094)"
      ]
     },
     "execution_count": 159,
     "metadata": {},
     "output_type": "execute_result"
    }
   ],
   "source": [
    "# two sample unpaired ttest\n",
    "\n",
    "#shapiro test\n",
    "\n",
    "# hypothesis for shapiro\n",
    "    # H0: Data is normally distributedd\n",
    "    # HA: Data is not normally distributed\n",
    "\n",
    "stats.shapiro(cur)"
   ]
  },
  {
   "cell_type": "code",
   "execution_count": 160,
   "metadata": {},
   "outputs": [
    {
     "data": {
      "text/plain": [
       "(0.9678263664245605, 0.3064655363559723)"
      ]
     },
     "execution_count": 160,
     "metadata": {},
     "output_type": "execute_result"
    }
   ],
   "source": [
    "stats.shapiro(ne)"
   ]
  },
  {
   "cell_type": "code",
   "execution_count": null,
   "metadata": {},
   "outputs": [],
   "source": [
    "# both the data have pvalue> 0.05 hence we accept the H0, ie; the data is normally distributed.\n",
    "\n",
    "# hence two sample ttest_ind"
   ]
  },
  {
   "cell_type": "code",
   "execution_count": 163,
   "metadata": {},
   "outputs": [
    {
     "data": {
      "text/plain": [
       "Ttest_indResult(statistic=-1.3283615935245678, pvalue=0.18793228491854663)"
      ]
     },
     "execution_count": 163,
     "metadata": {},
     "output_type": "execute_result"
    }
   ],
   "source": [
    "stats.ttest_ind(ne,cur)"
   ]
  },
  {
   "cell_type": "markdown",
   "metadata": {},
   "source": [
    "Conclusion:\n",
    "    \n",
    "Here we can see that the pvalue is >0.05, hence accept the H0, ie; with 95% confidence we can say that the both new and current balls travel the same distance"
   ]
  },
  {
   "cell_type": "markdown",
   "metadata": {},
   "source": [
    "### 3.\tWhat is the 95% confidence interval for the population mean of each model, and what is the 95% confidence interval for the difference between the means of the two population?"
   ]
  },
  {
   "cell_type": "code",
   "execution_count": 4,
   "metadata": {},
   "outputs": [
    {
     "name": "stdout",
     "output_type": "stream",
     "text": [
      "The 95% confidence interval for population mean of new model ball: \n",
      " [ 264.43291753097594 , 270.56708246902406 ]\n"
     ]
    }
   ],
   "source": [
    "# new:\n",
    "n=40\n",
    "xbar1=np.mean(ne)\n",
    "s1=np.std(ne,ddof=1)\n",
    "se1=s1/np.sqrt(n)\n",
    "\n",
    "print('The 95% confidence interval for population mean of new model ball: \\n','[',xbar1-(1.96*se1),',',xbar1+(1.96*se1),']')"
   ]
  },
  {
   "cell_type": "code",
   "execution_count": 5,
   "metadata": {},
   "outputs": [
    {
     "name": "stdout",
     "output_type": "stream",
     "text": [
      "The 95% confidence interval for population mean of new model ball: \n",
      " [ 267.5624218952518 , 272.98757810474814 ]\n"
     ]
    }
   ],
   "source": [
    "# current:\n",
    "n=40\n",
    "xbar2=np.mean(cur)\n",
    "s2=np.std(cur,ddof=1)\n",
    "se2=s2/np.sqrt(n)\n",
    "\n",
    "print('The 95% confidence interval for population mean of new model ball: \\n','[',xbar2-(1.96*se2),',',xbar2+(1.96*se2),']')"
   ]
  },
  {
   "cell_type": "code",
   "execution_count": 6,
   "metadata": {},
   "outputs": [],
   "source": [
    "se_pop=np.sqrt(((s2**2)/n)+((s2**2)/n))"
   ]
  },
  {
   "cell_type": "code",
   "execution_count": 9,
   "metadata": {},
   "outputs": [
    {
     "data": {
      "text/plain": [
       "2.7749999999999773"
      ]
     },
     "execution_count": 9,
     "metadata": {},
     "output_type": "execute_result"
    }
   ],
   "source": [
    "(xbar2-xbar1)"
   ]
  },
  {
   "cell_type": "code",
   "execution_count": 11,
   "metadata": {},
   "outputs": [
    {
     "name": "stdout",
     "output_type": "stream",
     "text": [
      "The 95% confidence interval for mean difference: \n",
      " [ -1.0611647447311383 , 6.611164744731093 ]\n"
     ]
    }
   ],
   "source": [
    "print('The 95% confidence interval for mean difference: \\n','[',(xbar2-xbar1)-(1.96*se_pop),',',(xbar2-xbar1)+(1.96*se_pop),']')"
   ]
  },
  {
   "cell_type": "code",
   "execution_count": null,
   "metadata": {},
   "outputs": [],
   "source": []
  }
 ],
 "metadata": {
  "kernelspec": {
   "display_name": "Python 3",
   "language": "python",
   "name": "python3"
  },
  "language_info": {
   "codemirror_mode": {
    "name": "ipython",
    "version": 3
   },
   "file_extension": ".py",
   "mimetype": "text/x-python",
   "name": "python",
   "nbconvert_exporter": "python",
   "pygments_lexer": "ipython3",
   "version": "3.7.6"
  }
 },
 "nbformat": 4,
 "nbformat_minor": 4
}
